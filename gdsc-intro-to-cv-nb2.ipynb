{
 "cells": [
  {
   "cell_type": "markdown",
   "id": "4421ac8c",
   "metadata": {
    "_cell_guid": "b1076dfc-b9ad-4769-8c92-a6c4dae69d19",
    "_uuid": "8f2839f25d086af736a60e9eeb907d3b93b6e0e5",
    "execution": {
     "iopub.execute_input": "2024-05-01T13:17:01.260593Z",
     "iopub.status.busy": "2024-05-01T13:17:01.260119Z",
     "iopub.status.idle": "2024-05-01T13:17:01.266078Z",
     "shell.execute_reply": "2024-05-01T13:17:01.264743Z",
     "shell.execute_reply.started": "2024-05-01T13:17:01.260562Z"
    },
    "papermill": {
     "duration": 0.002127,
     "end_time": "2024-05-01T14:23:02.992723",
     "exception": false,
     "start_time": "2024-05-01T14:23:02.990596",
     "status": "completed"
    },
    "tags": []
   },
   "source": [
    "# AI Avenue 2: Introduction to Computer Vision\n",
    "\n",
    "## Fine-tuning Convolutional Neural Network (CNN)"
   ]
  },
  {
   "cell_type": "code",
   "execution_count": null,
   "id": "5bb3597c",
   "metadata": {
    "execution": {
     "iopub.execute_input": "2024-05-01T14:18:38.952789Z",
     "iopub.status.busy": "2024-05-01T14:18:38.952408Z",
     "iopub.status.idle": "2024-05-01T14:18:38.958139Z",
     "shell.execute_reply": "2024-05-01T14:18:38.957042Z",
     "shell.execute_reply.started": "2024-05-01T14:18:38.952759Z"
    },
    "papermill": {
     "duration": 0.00131,
     "end_time": "2024-05-01T14:23:02.995797",
     "exception": false,
     "start_time": "2024-05-01T14:23:02.994487",
     "status": "completed"
    },
    "tags": []
   },
   "outputs": [],
   "source": []
  },
  {
   "cell_type": "code",
   "execution_count": null,
   "id": "c1f1d06a",
   "metadata": {
    "papermill": {
     "duration": 0.001341,
     "end_time": "2024-05-01T14:23:02.998599",
     "exception": false,
     "start_time": "2024-05-01T14:23:02.997258",
     "status": "completed"
    },
    "tags": []
   },
   "outputs": [],
   "source": []
  }
 ],
 "metadata": {
  "kaggle": {
   "accelerator": "none",
   "dataSources": [],
   "dockerImageVersionId": 30698,
   "isGpuEnabled": false,
   "isInternetEnabled": true,
   "language": "python",
   "sourceType": "notebook"
  },
  "kernelspec": {
   "display_name": "Python 3",
   "language": "python",
   "name": "python3"
  },
  "language_info": {
   "codemirror_mode": {
    "name": "ipython",
    "version": 3
   },
   "file_extension": ".py",
   "mimetype": "text/x-python",
   "name": "python",
   "nbconvert_exporter": "python",
   "pygments_lexer": "ipython3",
   "version": "3.10.13"
  },
  "papermill": {
   "default_parameters": {},
   "duration": 2.905276,
   "end_time": "2024-05-01T14:23:03.319529",
   "environment_variables": {},
   "exception": null,
   "input_path": "__notebook__.ipynb",
   "output_path": "__notebook__.ipynb",
   "parameters": {},
   "start_time": "2024-05-01T14:23:00.414253",
   "version": "2.5.0"
  }
 },
 "nbformat": 4,
 "nbformat_minor": 5
}
